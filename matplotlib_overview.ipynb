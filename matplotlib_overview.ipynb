{
 "cells": [
  {
   "cell_type": "code",
   "execution_count": null,
   "id": "e505bb61-c6c4-41db-b3db-f6501ba19ec8",
   "metadata": {},
   "outputs": [],
   "source": [
    "import matplotlib.pyplot as plt\n",
    "import numpy as np\n",
    "import pandas as pd"
   ]
  },
  {
   "cell_type": "code",
   "execution_count": null,
   "id": "8744c680-c787-4582-a750-81a6d00b8cee",
   "metadata": {},
   "outputs": [],
   "source": [
    "%matplotlib inline"
   ]
  },
  {
   "cell_type": "markdown",
   "id": "becb0260-26bb-4632-8191-b315d8b428ab",
   "metadata": {},
   "source": [
    "### Different ways to create a plot"
   ]
  },
  {
   "cell_type": "code",
   "execution_count": null,
   "id": "1d399d2f-b75a-463f-a5df-702b519750e4",
   "metadata": {},
   "outputs": [],
   "source": [
    "x = np.linspace(0, 10, 100)"
   ]
  },
  {
   "cell_type": "code",
   "execution_count": null,
   "id": "705da0ee-516a-4ffb-94ba-0569e3d2816e",
   "metadata": {},
   "outputs": [],
   "source": [
    "# 1\n",
    "# preffered way (most object-oriented-like)\n",
    "fig, ax = plt.subplots(2,2, figsize=(8,8))\n",
    "\n",
    "ax[0,0].plot(x);\n",
    "ax[0,1].plot(-x);\n",
    "ax[1,0].plot(x**2);\n",
    "ax[1,1].plot(-x**2);"
   ]
  },
  {
   "cell_type": "code",
   "execution_count": null,
   "id": "7fed288b-a212-4d0c-b0db-a6d67a3d6f85",
   "metadata": {},
   "outputs": [],
   "source": [
    "# 2\n",
    "fig = plt.figure(figsize=(8,8))\n",
    "\n",
    "ax1 = fig.add_subplot(221)   #top left\n",
    "ax2 = fig.add_subplot(222)   #top right\n",
    "ax3 = fig.add_subplot(223)   #bottom left\n",
    "ax4 = fig.add_subplot(224)   #bottom right \n",
    "\n",
    "ax1.plot(x);\n",
    "ax2.plot(-x);\n",
    "ax3.plot(x**2);\n",
    "ax4.plot(-x**2);\n",
    "\n",
    "plt.show()"
   ]
  },
  {
   "cell_type": "code",
   "execution_count": null,
   "id": "06082f03-c1e4-4abe-bd13-24957f3e1661",
   "metadata": {},
   "outputs": [],
   "source": [
    "# 3\n",
    "fig = plt.figure(figsize=(10,4))\n",
    "\n",
    "ax1 = fig.add_axes([0.3, 0.4, 0.2, 0.7])\n",
    "ax2 = fig.add_axes([0.4, 0.2, 0.3, 0.3])\n",
    "\n",
    "ax1.plot(x);\n",
    "ax2.plot(-x);\n",
    "\n",
    "ax1.set(title = 'main plot')\n",
    "\n",
    "plt.show()"
   ]
  },
  {
   "cell_type": "code",
   "execution_count": null,
   "id": "2c01d00c-5242-4a2d-a7fb-67d1a3d9145a",
   "metadata": {},
   "outputs": [],
   "source": [
    "# 4 \n",
    "plt.plot(x, x**2);    # pyplot API is the least flexible \n",
    "plt.show()"
   ]
  },
  {
   "cell_type": "markdown",
   "id": "c99eb5cc-bb6f-414d-8e17-eaaa68a3fdfb",
   "metadata": {},
   "source": [
    "### Most common plots\n",
    "   - line plot\n",
    "   - scatter plot\n",
    "   - histogram\n",
    "   - bar\n",
    "   - pie"
   ]
  },
  {
   "cell_type": "code",
   "execution_count": null,
   "id": "1d909431-5a04-4dec-b2ea-1211a03c60c1",
   "metadata": {},
   "outputs": [],
   "source": [
    "x = np.linspace(0, 20, 100)"
   ]
  },
  {
   "cell_type": "code",
   "execution_count": null,
   "id": "95368f04-d5d1-4d26-b0c9-5480b40f02cb",
   "metadata": {},
   "outputs": [],
   "source": [
    "# line plot\n",
    "fig, ax = plt.subplots()\n",
    "ax.plot(x, np.sin(x));\n",
    "ax.set(\n",
    "    title = 'y = sin(x)',\n",
    "    xlabel = 'x',\n",
    "    ylabel = 'y',\n",
    "      );"
   ]
  },
  {
   "cell_type": "code",
   "execution_count": null,
   "id": "9a3c88b4-b2a2-47dc-808c-65d8d4168166",
   "metadata": {},
   "outputs": [],
   "source": [
    "# scatter plot\n",
    "fig, ax = plt.subplots()\n",
    "ax.scatter(x, np.sin(x));\n",
    "ax.set(\n",
    "    title = 'y = sin(x)',\n",
    "    xlabel = 'x',\n",
    "    ylabel = 'y',\n",
    "      );"
   ]
  },
  {
   "cell_type": "code",
   "execution_count": null,
   "id": "371184ad-b0e5-41b9-8047-cc87aeab34af",
   "metadata": {},
   "outputs": [],
   "source": [
    "# hist plot\n",
    "x = np.random.normal(10, 0.5, 1000)\n",
    "fig, ax = plt.subplots()\n",
    "ax.hist(x);\n",
    "ax.set(\n",
    "    title = 'normal distribution',\n",
    "    xlabel = 'x',\n",
    "    ylabel = 'N',\n",
    "      );"
   ]
  },
  {
   "cell_type": "code",
   "execution_count": null,
   "id": "e294c1dd-37f1-48ca-817f-3df0b323192d",
   "metadata": {},
   "outputs": [],
   "source": [
    "# bar plot\n",
    "x = np.linspace(1,10,11)\n",
    "fig, ax = plt.subplots()\n",
    "ax.bar(x, x*2);\n",
    "ax.set(\n",
    "    title = 'bar plot',\n",
    "    xlabel = 'x',\n",
    "    ylabel = 'N',\n",
    "      );"
   ]
  },
  {
   "cell_type": "code",
   "execution_count": null,
   "id": "80e2cefc-3d32-47eb-8799-5ad569ff44f8",
   "metadata": {},
   "outputs": [],
   "source": [
    "# bar plot\n",
    "x = np.linspace(1,10,11)\n",
    "fig, ax = plt.subplots()\n",
    "ax.pie(x);\n",
    "ax.set(\n",
    "    title = 'pie plot',\n",
    "    xlabel = 'x',\n",
    "    ylabel = 'N',\n",
    "      );"
   ]
  },
  {
   "cell_type": "code",
   "execution_count": null,
   "id": "55e6c617-e453-428a-b6ed-08b76137a7dd",
   "metadata": {},
   "outputs": [],
   "source": []
  }
 ],
 "metadata": {
  "kernelspec": {
   "display_name": "Python 3",
   "language": "python",
   "name": "python3"
  },
  "language_info": {
   "codemirror_mode": {
    "name": "ipython",
    "version": 3
   },
   "file_extension": ".py",
   "mimetype": "text/x-python",
   "name": "python",
   "nbconvert_exporter": "python",
   "pygments_lexer": "ipython3",
   "version": "3.9.7"
  }
 },
 "nbformat": 4,
 "nbformat_minor": 5
}
