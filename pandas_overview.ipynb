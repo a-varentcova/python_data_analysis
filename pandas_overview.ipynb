{
 "cells": [
  {
   "cell_type": "code",
   "execution_count": null,
   "id": "f9cb0ec7-53f9-4511-8ced-3ea6a3776667",
   "metadata": {},
   "outputs": [],
   "source": [
    "import pandas as pd"
   ]
  },
  {
   "cell_type": "markdown",
   "id": "3095fcca-9059-40b8-aee0-15a54c5ee70e",
   "metadata": {
    "tags": []
   },
   "source": [
    "### Getting DataFrame object:"
   ]
  },
  {
   "cell_type": "code",
   "execution_count": null,
   "id": "07c0c51e-caa3-4cce-9390-865d2d25fa9c",
   "metadata": {},
   "outputs": [],
   "source": [
    "# series - 1d object\n",
    "book_series = pd.Series([\"War and Peace I\", \"War and Peace II\", \"War and Peace III\", \"War and Peace IV\"])\n",
    "book_series"
   ]
  },
  {
   "cell_type": "code",
   "execution_count": null,
   "id": "291eb89d-7eec-4966-9d50-2ce4efa9ef6e",
   "metadata": {},
   "outputs": [],
   "source": [
    "pages_series = pd.Series([420, 350, 400, 380])\n",
    "pages_series"
   ]
  },
  {
   "cell_type": "code",
   "execution_count": null,
   "id": "61137e6d-d203-423c-a837-76babd99e4fa",
   "metadata": {},
   "outputs": [],
   "source": [
    "# dataframe - 2d object\n",
    "df_books = pd.DataFrame({'name of the book': book_series, 'number of pages': pages_series})\n",
    "df_books"
   ]
  },
  {
   "cell_type": "code",
   "execution_count": null,
   "id": "49af6a3a-e478-4c51-8751-bf073b466d33",
   "metadata": {},
   "outputs": [],
   "source": [
    "# import from a file:\n",
    "df_movies = pd.read_csv('data/Walt_disney_movie_dataset.csv')\n",
    "df_movies"
   ]
  },
  {
   "cell_type": "code",
   "execution_count": null,
   "id": "6b89e9ec-eeeb-494a-b6c2-bf54fa2bbb4f",
   "metadata": {},
   "outputs": [],
   "source": [
    "# export into csv:\n",
    "df_movies.to_csv('data/movies_edited.csv', index=False)"
   ]
  },
  {
   "cell_type": "markdown",
   "id": "fa3000bb-c903-424e-82d6-b76a367e630f",
   "metadata": {
    "tags": []
   },
   "source": [
    "### Getting general info about df:"
   ]
  },
  {
   "cell_type": "code",
   "execution_count": null,
   "id": "4c16befb-64f7-4f17-a01a-4cbac44068b9",
   "metadata": {},
   "outputs": [],
   "source": [
    "df_movies.dtypes"
   ]
  },
  {
   "cell_type": "code",
   "execution_count": null,
   "id": "ab921da9-9879-406c-8144-d8081e13b534",
   "metadata": {},
   "outputs": [],
   "source": [
    "df_movies.columns"
   ]
  },
  {
   "cell_type": "code",
   "execution_count": null,
   "id": "4a03364b-ef70-4c79-a81f-34c8c7c2f744",
   "metadata": {},
   "outputs": [],
   "source": [
    "df_movies.index"
   ]
  },
  {
   "cell_type": "code",
   "execution_count": null,
   "id": "78c83fa2-8b9d-4c67-bd2f-c7f2a5b2abbe",
   "metadata": {},
   "outputs": [],
   "source": [
    "df_movies.info()"
   ]
  },
  {
   "cell_type": "code",
   "execution_count": null,
   "id": "8bd93afb-6841-477b-8f84-25560a2e734d",
   "metadata": {},
   "outputs": [],
   "source": [
    "len(df_movies)"
   ]
  },
  {
   "cell_type": "code",
   "execution_count": null,
   "id": "edaf1a21-7897-4e4a-88a3-dbe455e524e7",
   "metadata": {},
   "outputs": [],
   "source": [
    "df_movies.head(4)"
   ]
  },
  {
   "cell_type": "code",
   "execution_count": null,
   "id": "7194e295-c283-4892-92d2-43530d0d3b84",
   "metadata": {},
   "outputs": [],
   "source": [
    "df_movies.tail(4)"
   ]
  },
  {
   "cell_type": "code",
   "execution_count": null,
   "id": "58495c53-6412-4576-87a4-b0327ad738dc",
   "metadata": {},
   "outputs": [],
   "source": [
    "df_movies.describe()"
   ]
  },
  {
   "cell_type": "code",
   "execution_count": null,
   "id": "ccef8544-15bd-4813-ae96-c70f9fe2147a",
   "metadata": {},
   "outputs": [],
   "source": [
    "df_movies.mean()"
   ]
  },
  {
   "cell_type": "code",
   "execution_count": null,
   "id": "70d0229b-824c-44c5-ba06-20d452d2abd6",
   "metadata": {},
   "outputs": [],
   "source": [
    "df_movies[\"Running time (int)\"].sum()"
   ]
  },
  {
   "cell_type": "code",
   "execution_count": null,
   "id": "d8653b03-8419-4438-871f-3ffd07f4f210",
   "metadata": {},
   "outputs": [],
   "source": [
    "budget_series = pd.Series([1000, 3000, 10000, 2500])\n",
    "print(budget_series.mean())\n",
    "print(budget_series.sum())"
   ]
  },
  {
   "cell_type": "markdown",
   "id": "954d7d29-ae69-4932-bc01-46db2636d5d9",
   "metadata": {
    "tags": []
   },
   "source": [
    "### Viewing and selecting data:"
   ]
  },
  {
   "cell_type": "markdown",
   "id": "38c6c7b0-4a48-44c3-88cd-3af9819fb472",
   "metadata": {},
   "source": [
    "#### Selecting rows:"
   ]
  },
  {
   "cell_type": "code",
   "execution_count": null,
   "id": "87c71a5a-4894-43f5-8311-3d1a396935c0",
   "metadata": {},
   "outputs": [],
   "source": [
    "# .iloc[] and .loc[] properties\n",
    "\n",
    "# .iloc[] picks up a row at a certain position \n",
    "\n",
    "# .loc[] picks up a row with a given index,\n",
    "#  returns several rows in case there are multiple rows with the same index\n",
    "\n",
    "# works with slicing"
   ]
  },
  {
   "cell_type": "code",
   "execution_count": null,
   "id": "88da58de-a48b-4bcd-9723-8fd2bf9b355d",
   "metadata": {},
   "outputs": [],
   "source": [
    "pets = pd.Series([\"cat\", \"dog\", \"bird\", \"fish\", \"cow\"])\n",
    "pets "
   ]
  },
  {
   "cell_type": "code",
   "execution_count": null,
   "id": "08f11bd9-42f5-4b66-814b-ff809b2b2c62",
   "metadata": {},
   "outputs": [],
   "source": [
    "pets.iloc[2]"
   ]
  },
  {
   "cell_type": "code",
   "execution_count": null,
   "id": "bd6b57e8-c61b-45e2-be42-7f11a5902fe8",
   "metadata": {},
   "outputs": [],
   "source": [
    "pets.loc[2]"
   ]
  },
  {
   "cell_type": "code",
   "execution_count": null,
   "id": "926b7d4d-acc0-4b61-b9fb-5cdd0728c7c5",
   "metadata": {},
   "outputs": [],
   "source": [
    "pets = pd.Series(\n",
    "    [\"cat\", \"dog\", \"bird\", \"fish\", \"cow\"], index=[10, 20, 10, 40, 50]\n",
    ")\n",
    "pets"
   ]
  },
  {
   "cell_type": "code",
   "execution_count": null,
   "id": "8d87f7a3-a209-4e58-b273-81f698da5f88",
   "metadata": {},
   "outputs": [],
   "source": [
    "pets.iloc[2]"
   ]
  },
  {
   "cell_type": "code",
   "execution_count": null,
   "id": "b196b11e-f3f6-4690-8070-155b4edff91f",
   "metadata": {},
   "outputs": [],
   "source": [
    "pets.loc[10]"
   ]
  },
  {
   "cell_type": "code",
   "execution_count": null,
   "id": "7c40d62f-4489-403a-96dd-0431d30f3da7",
   "metadata": {},
   "outputs": [],
   "source": [
    "pets.iloc[:2]"
   ]
  },
  {
   "cell_type": "code",
   "execution_count": null,
   "id": "80017a82-9cc9-4463-864c-4ee65007e57c",
   "metadata": {},
   "outputs": [],
   "source": [
    "pets.iloc[2:]"
   ]
  },
  {
   "cell_type": "code",
   "execution_count": null,
   "id": "84c5d12e-8fab-4cb7-9553-4dd0bc3cbe27",
   "metadata": {},
   "outputs": [],
   "source": [
    "df_movies.iloc[:5]"
   ]
  },
  {
   "cell_type": "markdown",
   "id": "c0777cf2-2556-4236-b21e-7ec5c0a7f514",
   "metadata": {
    "tags": []
   },
   "source": [
    "#### Selecting columns:"
   ]
  },
  {
   "cell_type": "code",
   "execution_count": null,
   "id": "00da01a9-1468-4c91-862c-f4b55b8ee63e",
   "metadata": {},
   "outputs": [],
   "source": [
    "df_movies[\"Running time (int)\"]"
   ]
  },
  {
   "cell_type": "code",
   "execution_count": null,
   "id": "091728e9-efe9-4a10-bc4d-8c6a483193b6",
   "metadata": {},
   "outputs": [],
   "source": [
    "df_movies[\"title\"]"
   ]
  },
  {
   "cell_type": "code",
   "execution_count": null,
   "id": "7120bb71-342e-4a82-905a-dbe3bac3dad4",
   "metadata": {},
   "outputs": [],
   "source": [
    "df_movies.title"
   ]
  },
  {
   "cell_type": "code",
   "execution_count": null,
   "id": "414203d7-de63-4fbb-b9d8-8f0ff44b2474",
   "metadata": {},
   "outputs": [],
   "source": [
    "df_movies[\"Language\"]"
   ]
  },
  {
   "cell_type": "code",
   "execution_count": null,
   "id": "b331c9bd-e4c2-4023-b06a-57d7d15b8a12",
   "metadata": {},
   "outputs": [],
   "source": [
    "df_movies[\"Running time (int)\"]"
   ]
  },
  {
   "cell_type": "markdown",
   "id": "1947ddc1-3010-4580-8f87-0f1f68846225",
   "metadata": {
    "tags": []
   },
   "source": [
    "#### Filtering data in a column:"
   ]
  },
  {
   "cell_type": "code",
   "execution_count": null,
   "id": "e08851c1-f7e2-4373-a01d-3c8e9b2b914b",
   "metadata": {},
   "outputs": [],
   "source": [
    "df_movies[df_movies[\"Running time (int)\"] > 100]"
   ]
  },
  {
   "cell_type": "code",
   "execution_count": null,
   "id": "cace8903-6439-443f-a8a4-c122311f9d6b",
   "metadata": {},
   "outputs": [],
   "source": [
    "len(df_movies[df_movies[\"Running time (int)\"] > 100])"
   ]
  },
  {
   "cell_type": "code",
   "execution_count": null,
   "id": "be379f4e-b5a9-4b91-964e-e0f6396b8f03",
   "metadata": {},
   "outputs": [],
   "source": [
    "len(df_movies[df_movies[\"Running time (int)\"] > 120])"
   ]
  },
  {
   "cell_type": "code",
   "execution_count": null,
   "id": "1f51d5a4-45a9-40d4-88b7-8fb1a6b178da",
   "metadata": {},
   "outputs": [],
   "source": []
  }
 ],
 "metadata": {
  "kernelspec": {
   "display_name": "Python 3",
   "language": "python",
   "name": "python3"
  },
  "language_info": {
   "codemirror_mode": {
    "name": "ipython",
    "version": 3
   },
   "file_extension": ".py",
   "mimetype": "text/x-python",
   "name": "python",
   "nbconvert_exporter": "python",
   "pygments_lexer": "ipython3",
   "version": "3.9.7"
  }
 },
 "nbformat": 4,
 "nbformat_minor": 5
}
